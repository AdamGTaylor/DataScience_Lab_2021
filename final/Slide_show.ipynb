{
 "cells": [
  {
   "cell_type": "markdown",
   "id": "8bd1e4bb",
   "metadata": {
    "slideshow": {
     "slide_type": "slide"
    }
   },
   "source": [
    "# Final presentation\n",
    "\n",
    "This is the final submission related to the phenomenom of the existence of the existence of Earth's lightning hotspots. As this is the last submission, it will mostly cover the algorithms used during the semester that was currectly giving back information. All plots are present, all code that used is here. Let's load in all the needed packages!\n",
    "\n",
    "# Goal #1: getting the hotspots of the continents\n",
    "\n",
    "At this point the simplified ouput is created, meaning a faster workflow with it. Only steps that are need to be done are:\n",
    "\n",
    "1. Create our first figure with a 2D histogram from the yearly data\n",
    "2. Create a stable method tha can find peaks in it (may need smoothening)\n",
    "3. Detect the hotspots on each continent\n",
    "\n",
    "This was the point of the key paper, let's see how much close we can get to it!"
   ]
  },
  {
   "cell_type": "markdown",
   "id": "c4242373",
   "metadata": {
    "slideshow": {
     "slide_type": "slide"
    }
   },
   "source": [
    "## Simplified output\n",
    "\n",
    "Its source is the .h5 avaliable on kooplex. This is not needed to be recreated as I will hand this out. The problem is that the .h5 are a bit messy to handle, has insane amount of data and a dozen of parameters recorded in themselves. Thats why the simplified output was created during the semester: we only need a fraction of the data. Later on we will discover another issue, hidden from plain sight..."
   ]
  },
  {
   "cell_type": "markdown",
   "id": "697e03a9",
   "metadata": {
    "slideshow": {
     "slide_type": "subslide"
    }
   },
   "source": [
    "## Top 10 most thunderous spots for each continent\n",
    "\n",
    "There will be a lot of masks, with the shapefiles for the well somewhat well defined surfaces. What is being used here is the following:\n",
    "\n",
    "1. The shapefile to define the surfaces\n",
    "2. A gaussian filter to determine hotspots"
   ]
  },
  {
   "cell_type": "markdown",
   "id": "014ceefd",
   "metadata": {
    "slideshow": {
     "slide_type": "subslide"
    }
   },
   "source": [
    "## Conclusions\n",
    "\n",
    "We can compare this to the keypaper's results and it seems like it somewhat consistent. The keypaper states that the yearly analysis could be done in order to track the climate change. Also, if someone is good in topography, you could see that the hotspots locations are mostly under on climate on each continent. The most hotspots are located at:\n",
    "\n",
    "1. in the Kongo Basin in Africa\n",
    "2. The west foothills of Alps in Europe\n",
    "3. The west coastline of Australia\n",
    "4. THe west foothills of Himalaja in Asia"
   ]
  },
  {
   "cell_type": "markdown",
   "id": "90cdd99b",
   "metadata": {
    "slideshow": {
     "slide_type": "slide"
    }
   },
   "source": [
    "# Goal #2: comparing other data with LIS ISS' data\n",
    "\n",
    "In order to get the a deeper understanding and give an explanation, we have to compare these results to other datasets to draw conclusion about what may be behind the phenomenom. Personally I like the idea of wind pushing humid are to dry land that is meeting and obstructive surface (mountains). This means that the windspeed is generally slower in these areas. The problem is that most wind data is either a forecast, or should not be used for scientific models (or behind paywall). In this case I have choosen a dataset that is for observation only but should be good in this case!\n",
    "\n",
    "## Problems with wind\n",
    "\n",
    "The problem using wind measurements is that we instictively know that even during the day, the windspeed and direction changes, but the lightning hotspots are observed through a longer times interval. In order to choose the best day (at least) to describe, we need do to a seasonal or daily analysis. Let's get onto this!"
   ]
  },
  {
   "cell_type": "code",
   "execution_count": null,
   "id": "b1d6b47d",
   "metadata": {},
   "outputs": [],
   "source": []
  }
 ],
 "metadata": {
  "celltoolbar": "Slideshow",
  "kernelspec": {
   "display_name": "Python 3",
   "language": "python",
   "name": "python3"
  },
  "language_info": {
   "codemirror_mode": {
    "name": "ipython",
    "version": 3
   },
   "file_extension": ".py",
   "mimetype": "text/x-python",
   "name": "python",
   "nbconvert_exporter": "python",
   "pygments_lexer": "ipython3",
   "version": "3.8.8"
  }
 },
 "nbformat": 4,
 "nbformat_minor": 5
}
