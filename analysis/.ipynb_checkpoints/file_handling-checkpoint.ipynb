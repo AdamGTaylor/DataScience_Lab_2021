{
 "cells": [
  {
   "cell_type": "markdown",
   "id": "0fc42233",
   "metadata": {},
   "source": [
    "# File Handling Notebook\n",
    "\n",
    "This notebook is for file handling to assit me in the creation of the simplified output. The main point is to open multiple files after each other, check lenght and stuff, and then create a simplified output out of them. This will use the data/test stuff to create this output, which means that thre is no sorting or cleaning of the data."
   ]
  },
  {
   "cell_type": "code",
   "execution_count": 2,
   "id": "2678ea24",
   "metadata": {},
   "outputs": [],
   "source": [
    "import numpy as np\n",
    "import pandas as pd\n",
    "\n",
    "import matplotlib.pyplot as plt\n",
    "import seaborn as sns\n",
    "\n",
    "import sys\n",
    "import os\n",
    "import glob"
   ]
  },
  {
   "cell_type": "code",
   "execution_count": 11,
   "id": "dd62ef00",
   "metadata": {},
   "outputs": [],
   "source": [
    "def files_list(file_path,chunk):\n",
    "    #Directory wi hte files\n",
    "    dataDir = os.path.join(file_path,'')\n",
    "    \n",
    "    #Indentify the files\n",
    "    raw_files = glob.glob(dataDir + chunk)\n",
    "    files = [os.path.normpath(i) for i in raw_files]\n",
    "    \n",
    "    return files"
   ]
  },
  {
   "cell_type": "code",
   "execution_count": 15,
   "id": "39c01e03",
   "metadata": {},
   "outputs": [
    {
     "data": {
      "text/plain": [
       "['..\\\\data\\\\test\\\\a.txt',\n",
       " '..\\\\data\\\\test\\\\a1.txt',\n",
       " '..\\\\data\\\\test\\\\a2.txt',\n",
       " '..\\\\data\\\\test\\\\a3.txt']"
      ]
     },
     "metadata": {},
     "output_type": "display_data"
    }
   ],
   "source": [
    "chunk = 'a*.txt'                    #chunk, due to it not being a full name\n",
    "FILE_PATH = '../data/test/'         #for me this is the directory\n",
    "file_list = files_list(FILE_PATH)   #the files are\n",
    "display(file_list)                  #the"
   ]
  },
  {
   "cell_type": "code",
   "execution_count": null,
   "id": "5aeb35a8",
   "metadata": {},
   "outputs": [],
   "source": []
  }
 ],
 "metadata": {
  "kernelspec": {
   "display_name": "Python 3",
   "language": "python",
   "name": "python3"
  },
  "language_info": {
   "codemirror_mode": {
    "name": "ipython",
    "version": 3
   },
   "file_extension": ".py",
   "mimetype": "text/x-python",
   "name": "python",
   "nbconvert_exporter": "python",
   "pygments_lexer": "ipython3",
   "version": "3.8.8"
  }
 },
 "nbformat": 4,
 "nbformat_minor": 5
}
