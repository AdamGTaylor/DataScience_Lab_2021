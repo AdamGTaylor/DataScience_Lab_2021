{
 "cells": [
  {
   "cell_type": "markdown",
   "id": "f5bb6857",
   "metadata": {},
   "source": [
    "# Progress Report 2.\n",
    "\n",
    "<font size=\"4\"> This progress report will be about the simplified output (mostly) and the creation of the heatmap.\n",
    "</font>\n",
    "\n",
    "## Simplified Output\n",
    "\n",
    "I finally made te script that creates the simplified output from the HDF5 files. This is a major step, due to its smaller size compared to the original data, and is proof about me fully understanding and correctly handling the dataset avaliable online. With this I can conclude that the data preprocssing and cleaning part of this project is finally done.\n",
    "\n",
    "The simplified output was don on kooplex, but I still have to choose the correct formatting fr numpy to save the data, as it affects the datasize very much.\n",
    "\n",
    "## HDF4 to HDF5 Conversion\n",
    "\n",
    "This is the only thing that misses from handling the data correctly: converting the data with a subprocess. While kooplex has the avaliable data in the correct format, I will try to do this conversion as it adds flexibility for my project (basicly indepence from kooplex). This conversion could be done with h4toh5, which programs main deal is to convert old NASA HDF4 file to HDF5. It is done like the following:\n",
    "\n"
   ]
  },
  {
   "cell_type": "code",
   "execution_count": null,
   "id": "d9a9b0cb",
   "metadata": {},
   "outputs": [],
   "source": [
    "import subprocess\n",
    "args = (\"./h4toh5\", filepath)\n",
    "p = subprocess.Popen(args, stdout=subprocess.PIPE)"
   ]
  },
  {
   "cell_type": "markdown",
   "id": "71bc20a8",
   "metadata": {},
   "source": [
    "h4toh5 s avaliable at: https://www.hdfeos.org/software/h4toh5-def-download.php\n",
    "\n",
    "With this I can fully conclude the data processing part.\n"
   ]
  },
  {
   "cell_type": "markdown",
   "id": "65dcc2a4",
   "metadata": {},
   "source": [
    "## Work progress on github.\n",
    "\n",
    "This will be made avaliable on github due to its version control only reliable online services. This repository will be public, or shared in same way, in the future!"
   ]
  }
 ],
 "metadata": {
  "kernelspec": {
   "display_name": "Python 3",
   "language": "python",
   "name": "python3"
  },
  "language_info": {
   "codemirror_mode": {
    "name": "ipython",
    "version": 3
   },
   "file_extension": ".py",
   "mimetype": "text/x-python",
   "name": "python",
   "nbconvert_exporter": "python",
   "pygments_lexer": "ipython3",
   "version": "3.8.8"
  }
 },
 "nbformat": 4,
 "nbformat_minor": 5
}
